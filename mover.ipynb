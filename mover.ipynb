{
 "cells": [
  {
   "cell_type": "code",
   "execution_count": 3,
   "metadata": {},
   "outputs": [],
   "source": [
    "import os "
   ]
  },
  {
   "cell_type": "code",
   "execution_count": 4,
   "metadata": {},
   "outputs": [],
   "source": [
    "#moves all png to test folder\n",
    "path=os.getcwd()\n",
    "folder=\"test\"\n",
    "for i in os.listdir(path):\n",
    "    if (i[-3:]) == \"png\":\n",
    "        os.rename(f\"{path}/{i}\",f\"{path}/{folder}/{i}\")\n",
    "    else: \n",
    "        pass"
   ]
  },
  {
   "cell_type": "code",
   "execution_count": null,
   "metadata": {},
   "outputs": [],
   "source": []
  }
 ],
 "metadata": {
  "kernelspec": {
   "display_name": "base",
   "language": "python",
   "name": "python3"
  },
  "language_info": {
   "codemirror_mode": {
    "name": "ipython",
    "version": 3
   },
   "file_extension": ".py",
   "mimetype": "text/x-python",
   "name": "python",
   "nbconvert_exporter": "python",
   "pygments_lexer": "ipython3",
   "version": "3.9.7"
  },
  "orig_nbformat": 4,
  "vscode": {
   "interpreter": {
    "hash": "19474ab4eade0bc41de5a0763d9d633c71cc9c641560b152fca7813820ff05d0"
   }
  }
 },
 "nbformat": 4,
 "nbformat_minor": 2
}
