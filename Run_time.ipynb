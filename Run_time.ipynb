{
 "cells": [
  {
   "cell_type": "code",
   "execution_count": 8,
   "metadata": {},
   "outputs": [
    {
     "name": "stdout",
     "output_type": "stream",
     "text": [
      "50\n",
      "100\n",
      "150\n",
      "200\n",
      "250\n",
      "300\n",
      "350\n",
      "400\n",
      "450\n",
      "500\n",
      "550\n",
      "600\n",
      "650\n",
      "700\n",
      "750\n",
      "800\n",
      "850\n",
      "900\n",
      "950\n",
      "1000\n"
     ]
    },
    {
     "data": {
      "text/plain": [
       "State:\n",
       "\titeration: 95000\n",
       "\tepoch: 1000\n",
       "\tepoch_length: 95\n",
       "\tmax_epochs: 1000\n",
       "\toutput: 0.15988869965076447\n",
       "\tbatch: <class 'list'>\n",
       "\tmetrics: <class 'dict'>\n",
       "\tdataloader: <class 'torch.utils.data.dataloader.DataLoader'>\n",
       "\tseed: <class 'NoneType'>\n",
       "\ttimes: <class 'dict'>"
      ]
     },
     "execution_count": 8,
     "metadata": {},
     "output_type": "execute_result"
    }
   ],
   "source": [
    "# help function\n",
    "from transfer_learning import NeuralNet_sherpa_optimize\n",
    "from dataset_loader import data_loader, get_descriptors, one_filter, data_scaler\n",
    "\n",
    "# modules\n",
    "import torch\n",
    "import torch.nn as nn\n",
    "import torch.optim as optim\n",
    "\n",
    "import os\n",
    "import numpy as np\n",
    "import pandas as pd\n",
    "\n",
    "from sklearn.model_selection import train_test_split\n",
    "\n",
    "# New\n",
    "from transfer_learning import MyDataset\n",
    "from Statistics_helper import stratified_cluster_sample\n",
    "from ignite.engine import Engine, Events, create_supervised_evaluator\n",
    "from ignite.metrics import Loss\n",
    "from ignite.contrib.metrics.regression import R2Score\n",
    "import time\n",
    "from ignite.engine import Events, create_supervised_evaluator\n",
    "import sherpa\n",
    "from sklearn.metrics import r2_score\n",
    "\n",
    "\n",
    "# file name and data path\n",
    "device = torch.device(\"cuda\" if torch.cuda.is_available() else \"cpu\")\n",
    "base_path = os.getcwd()\n",
    "file_name = \"data/CrystGrowthDesign_SI.csv\"\n",
    "\n",
    "\"\"\"\n",
    "Data description.\n",
    "\n",
    "    Descriptors:\n",
    "        'void fraction', 'Vol. S.A.', 'Grav. S.A.', 'Pore diameter Limiting', 'Pore diameter Largest'\n",
    "    Source task:\n",
    "        'H2@100 bar/243K (wt%)'\n",
    "    Target tasks:\n",
    "        'H2@100 bar/130K (wt%)' 'CH4@100 bar/298 K (mg/g)' '5 bar Xe mol/kg' '5 bar Kr mol/kg'\n",
    "\"\"\"\n",
    "\n",
    "descriptor_columns = [\n",
    "    \"void fraction\",\n",
    "    \"Vol. S.A.\",\n",
    "    \"Grav. S.A.\",\n",
    "    \"Pore diameter Limiting\",\n",
    "    \"Pore diameter Largest\",\n",
    "]\n",
    "one_filter_columns = [\"H2@100 bar/243K (wt%)\"]\n",
    "another_filter_columns = ['5 bar Kr mol/kg']\n",
    "\n",
    "# load data\n",
    "data = data_loader(base_path, file_name)\n",
    "data = data.reset_index(drop=True)\n",
    "epochs = 1000\n",
    "batch_size = 128\n",
    "# parameters\n",
    "input_size = 5\n",
    "output_size = 1\n",
    "\n",
    "# file specifics \n",
    "#filename = f\"data_epochs-{epochs}_bs-{batch_size}\"\n",
    "trial_parameters={\n",
    "    \"lr\" : 0.003014,\n",
    "    \"H_l1\" : 257,\n",
    "    \"activate\" :  \"nn.PReLU\"\n",
    "}\n",
    "#format data\n",
    "learning_rate = trial_parameters[\"lr\"]\n",
    "df, t_1, t_2, y_1, y_2 = stratified_cluster_sample(\n",
    "    1, data, descriptor_columns, one_filter_columns[0], 5, net_out=True\n",
    ")\n",
    "df = df[0]\n",
    "df=df.drop(\"Cluster\",axis=1)\n",
    "interest = one_filter_columns[0]\n",
    "#descriptor_columns.append(\"Cluster\")\n",
    "features = descriptor_columns\n",
    "\n",
    "df_train, df_val, y_df_train, y_df_val = train_test_split(\n",
    "    df[features], df[interest], test_size=0.1\n",
    ")\n",
    "df_train[interest] = np.array(y_df_train)\n",
    "df_val[interest] = np.array(y_df_val)\n",
    "first = MyDataset(df_train, interest, features)\n",
    "train_loader = torch.utils.data.DataLoader(first, batch_size=batch_size)\n",
    "second = MyDataset(df_val, interest, features)\n",
    "val_loader = torch.utils.data.DataLoader(second, batch_size=len(df_val))\n",
    "\n",
    "train_loss = []\n",
    "train_r_2 = []\n",
    "val_loss = []\n",
    "val_r_2 = []\n",
    "net_time = []\n",
    "#create model\n",
    "model = NeuralNet_sherpa_optimize(5, 1, trial_parameters).to(device)\n",
    "criterion = nn.MSELoss()\n",
    "optimizer = optim.Adam(model.parameters(), lr=learning_rate)\n",
    "\n",
    "\n",
    "def train_step(engine, batch):\n",
    "    x, y = batch\n",
    "    model.train()\n",
    "    optimizer.zero_grad()\n",
    "    y_pred = model(x)\n",
    "    loss = criterion(y_pred, y)\n",
    "    loss.backward()\n",
    "    optimizer.step()\n",
    "\n",
    "    return loss.item()\n",
    "\n",
    "trainer = Engine(train_step)\n",
    "\n",
    "\n",
    "metrics = {\"loss\": Loss(criterion), \"r_2\": R2Score()}\n",
    "\n",
    "#train_evaluator = create_supervised_evaluator(model, metrics=metrics, device=device)\n",
    "# train_evaluator.logger = setup_logger(\"Train Evaluator\")\n",
    "#validation_evaluator = create_supervised_evaluator(\n",
    "#    model, metrics=metrics, device=device\n",
    "#)\n",
    "# validation_evaluator.logger = setup_logger(\"Val Evaluator\")\n",
    "\n",
    "\n",
    "\n",
    "\n",
    "train_loader = torch.utils.data.DataLoader(first, batch_size=batch_size,shuffle=True)\n",
    "start = time.time()\n",
    "trainer.logger.disabled=True\n",
    "trainer.run(train_loader, max_epochs=epochs)\n",
    "\n",
    "\n",
    "descriptor_columns = [\n",
    "    \"void fraction\",\n",
    "    \"Vol. S.A.\",\n",
    "    \"Grav. S.A.\",\n",
    "    \"Pore diameter Limiting\",\n",
    "    \"Pore diameter Largest\",\n",
    "]\n",
    "model.fc1.weight.requires_grad = False\n",
    "model.fc1.bias.requires_grad = False\n",
    "model.fc2.weight.requires_grad = False\n",
    "model.fc2.bias.requires_grad = False\n",
    "optimizer = optim.Adam(\n",
    "    filter(lambda p: p.requires_grad, model.parameters()), lr=learning_rate\n",
    ")\n",
    "df, t_1, t_2, y_1, y_2 = stratified_cluster_sample(\n",
    "    1, data, descriptor_columns, another_filter_columns[0], 5, net_out=True\n",
    ")\n",
    "df = df[0]\n",
    "df=df.drop(\"Cluster\",axis=1)\n",
    "interest = another_filter_columns[0]\n",
    "#descriptor_columns.append(\"Cluster\")\n",
    "features = descriptor_columns\n",
    "\n",
    "df_train, df_val, y_df_train, y_df_val = train_test_split(\n",
    "    df[features], df[interest], test_size=0.1\n",
    ")\n",
    "df_train[interest] = np.array(y_df_train)\n",
    "df_val[interest] = np.array(y_df_val)\n",
    "first = MyDataset(df_train, interest, features)\n",
    "train_loader = torch.utils.data.DataLoader(first, batch_size=batch_size)\n",
    "second = MyDataset(df_val, interest, features)\n",
    "val_loader = torch.utils.data.DataLoader(second, batch_size=len(df_val))\n",
    "\n",
    "interest=another_filter_columns[0]\n",
    "first = MyDataset(df_train, interest, features)\n",
    "\n",
    "train_loader = torch.utils.data.DataLoader(first, batch_size=batch_size)\n",
    "second = MyDataset(df_val, interest, features)\n",
    "val_loader = torch.utils.data.DataLoader(second, batch_size=len(df_val))\n",
    "\n",
    "\n",
    "def train_step_1(engine, batch):\n",
    "    x, y = batch\n",
    "    model.train()\n",
    "    optimizer.zero_grad()\n",
    "    y_pred = model(x)\n",
    "    loss = criterion(y_pred, y)\n",
    "    loss.backward()\n",
    "    optimizer.step()\n",
    "\n",
    "    return loss.item()\n",
    "transfer_trainer = Engine(train_step_1)\n",
    "metrics = {\"loss\": Loss(criterion), \"r_2\": R2Score()}\n",
    "@transfer_trainer.on(Events.EPOCH_COMPLETED(every=50))\n",
    "def store_metrics(engine):\n",
    "    end = time.time()\n",
    "    e = engine.state.epoch\n",
    "    out=float(criterion(model(train_loader.dataset.x_train),train_loader.dataset.y_train))\n",
    "    out1=float(r2_score(model(train_loader.dataset.x_train).detach().numpy(),train_loader.dataset.y_train.detach().numpy()))\n",
    "    out2=float(criterion(model(val_loader.dataset.x_train),val_loader.dataset.y_train))\n",
    "    out3=float(r2_score(model(val_loader.dataset.x_train).detach().numpy(),val_loader.dataset.y_train.detach().numpy()))\n",
    "    train_loss.append(out)\n",
    "    train_r_2.append(out1)\n",
    "    val_loss.append(out2)\n",
    "    val_r_2.append(out3)\n",
    "    net_time.append(end-start)\n",
    "    print(e)\n",
    "transfer_trainer.logger.disabled=True\n",
    "transfer_trainer.run(train_loader, max_epochs=epochs)\n"
   ]
  },
  {
   "cell_type": "code",
   "execution_count": 17,
   "metadata": {},
   "outputs": [
    {
     "data": {
      "text/plain": [
       "<matplotlib.legend.Legend at 0x202daa689a0>"
      ]
     },
     "execution_count": 17,
     "metadata": {},
     "output_type": "execute_result"
    },
    {
     "data": {
      "image/png": "[encoded data removed]",
      "text/plain": [
       "<Figure size 432x288 with 1 Axes>"
      ]
     },
     "metadata": {
      "needs_background": "light"
     },
     "output_type": "display_data"
    }
   ],
   "source": [
    "import matplotlib.pyplot as plt\n",
    "plt.plot(val_r_2)\n",
    "plt.plot(train_r_2,label=\"t\")\n",
    "plt.legend()"
   ]
  },
  {
   "cell_type": "code",
   "execution_count": 15,
   "metadata": {},
   "outputs": [
    {
     "data": {
      "text/plain": [
       "<matplotlib.legend.Legend at 0x202da974ca0>"
      ]
     },
     "execution_count": 15,
     "metadata": {},
     "output_type": "execute_result"
    },
    {
     "data": {
      "image/png": "[encoded data removed]",
      "text/plain": [
       "<Figure size 432x288 with 1 Axes>"
      ]
     },
     "metadata": {
      "needs_background": "light"
     },
     "output_type": "display_data"
    }
   ],
   "source": [
    "plt.plot(val_loss)\n",
    "plt.plot(train_loss,label=\"t\")\n",
    "plt.legend()"
   ]
  },
  {
   "cell_type": "code",
   "execution_count": null,
   "metadata": {},
   "outputs": [],
   "source": []
  }
 ],
 "metadata": {
  "interpreter": {
   "hash": "fd5732a15d3d8c897dbd8ffbef8bd31e71c34b3f7fdf04b13db074e3049d3f0c"
  },
  "kernelspec": {
   "display_name": "Python 3.9.7 ('base')",
   "language": "python",
   "name": "python3"
  },
  "language_info": {
   "codemirror_mode": {
    "name": "ipython",
    "version": 3
   },
   "file_extension": ".py",
   "mimetype": "text/x-python",
   "name": "python",
   "nbconvert_exporter": "python",
   "pygments_lexer": "ipython3",
   "version": "3.9.7"
  },
  "orig_nbformat": 4
 },
 "nbformat": 4,
 "nbformat_minor": 2
}
